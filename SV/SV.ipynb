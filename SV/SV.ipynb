{
 "cells": [
  {
   "cell_type": "code",
   "execution_count": 1,
   "id": "78a738cb",
   "metadata": {},
   "outputs": [],
   "source": [
    "import pandas as pd"
   ]
  },
  {
   "cell_type": "code",
   "execution_count": 4,
   "id": "c59b1725",
   "metadata": {},
   "outputs": [
    {
     "data": {
      "text/html": [
       "<div>\n",
       "<style scoped>\n",
       "    .dataframe tbody tr th:only-of-type {\n",
       "        vertical-align: middle;\n",
       "    }\n",
       "\n",
       "    .dataframe tbody tr th {\n",
       "        vertical-align: top;\n",
       "    }\n",
       "\n",
       "    .dataframe thead th {\n",
       "        text-align: right;\n",
       "    }\n",
       "</style>\n",
       "<table border=\"1\" class=\"dataframe\">\n",
       "  <thead>\n",
       "    <tr style=\"text-align: right;\">\n",
       "      <th></th>\n",
       "      <th>Masv</th>\n",
       "      <th>TenSV</th>\n",
       "      <th>MaKhoa</th>\n",
       "    </tr>\n",
       "  </thead>\n",
       "  <tbody>\n",
       "    <tr>\n",
       "      <th>0</th>\n",
       "      <td>SV01</td>\n",
       "      <td>Nam</td>\n",
       "      <td>KHMT</td>\n",
       "    </tr>\n",
       "    <tr>\n",
       "      <th>1</th>\n",
       "      <td>SV02</td>\n",
       "      <td>Tuan</td>\n",
       "      <td>KHMT</td>\n",
       "    </tr>\n",
       "  </tbody>\n",
       "</table>\n",
       "</div>"
      ],
      "text/plain": [
       "   Masv TenSV MaKhoa\n",
       "0  SV01   Nam   KHMT\n",
       "1  SV02  Tuan   KHMT"
      ]
     },
     "execution_count": 4,
     "metadata": {},
     "output_type": "execute_result"
    }
   ],
   "source": [
    "df_sv = pd.read_excel(\"SV.xlsx\", sheet_name=\"SV\")\n",
    "df_sv.head(2)"
   ]
  },
  {
   "cell_type": "code",
   "execution_count": 5,
   "id": "91f2faef",
   "metadata": {},
   "outputs": [
    {
     "data": {
      "text/html": [
       "<div>\n",
       "<style scoped>\n",
       "    .dataframe tbody tr th:only-of-type {\n",
       "        vertical-align: middle;\n",
       "    }\n",
       "\n",
       "    .dataframe tbody tr th {\n",
       "        vertical-align: top;\n",
       "    }\n",
       "\n",
       "    .dataframe thead th {\n",
       "        text-align: right;\n",
       "    }\n",
       "</style>\n",
       "<table border=\"1\" class=\"dataframe\">\n",
       "  <thead>\n",
       "    <tr style=\"text-align: right;\">\n",
       "      <th></th>\n",
       "      <th>MaKhoa</th>\n",
       "      <th>TenKhoa</th>\n",
       "    </tr>\n",
       "  </thead>\n",
       "  <tbody>\n",
       "    <tr>\n",
       "      <th>0</th>\n",
       "      <td>KHMT</td>\n",
       "      <td>Khoa hoc may tinh</td>\n",
       "    </tr>\n",
       "    <tr>\n",
       "      <th>1</th>\n",
       "      <td>KTS</td>\n",
       "      <td>Kinh te so</td>\n",
       "    </tr>\n",
       "  </tbody>\n",
       "</table>\n",
       "</div>"
      ],
      "text/plain": [
       "  MaKhoa            TenKhoa\n",
       "0   KHMT  Khoa hoc may tinh\n",
       "1    KTS         Kinh te so"
      ]
     },
     "execution_count": 5,
     "metadata": {},
     "output_type": "execute_result"
    }
   ],
   "source": [
    "df_khoa = pd.read_excel(\"SV.xlsx\", sheet_name=\"Khoa\")\n",
    "df_khoa.head(2)"
   ]
  },
  {
   "cell_type": "code",
   "execution_count": 6,
   "id": "90e0c9b3",
   "metadata": {},
   "outputs": [
    {
     "data": {
      "text/html": [
       "<div>\n",
       "<style scoped>\n",
       "    .dataframe tbody tr th:only-of-type {\n",
       "        vertical-align: middle;\n",
       "    }\n",
       "\n",
       "    .dataframe tbody tr th {\n",
       "        vertical-align: top;\n",
       "    }\n",
       "\n",
       "    .dataframe thead th {\n",
       "        text-align: right;\n",
       "    }\n",
       "</style>\n",
       "<table border=\"1\" class=\"dataframe\">\n",
       "  <thead>\n",
       "    <tr style=\"text-align: right;\">\n",
       "      <th></th>\n",
       "      <th>Masv</th>\n",
       "      <th>TenSV</th>\n",
       "      <th>MaKhoa</th>\n",
       "      <th>TenKhoa</th>\n",
       "    </tr>\n",
       "  </thead>\n",
       "  <tbody>\n",
       "    <tr>\n",
       "      <th>0</th>\n",
       "      <td>SV01</td>\n",
       "      <td>Nam</td>\n",
       "      <td>KHMT</td>\n",
       "      <td>Khoa hoc may tinh</td>\n",
       "    </tr>\n",
       "    <tr>\n",
       "      <th>1</th>\n",
       "      <td>SV02</td>\n",
       "      <td>Tuan</td>\n",
       "      <td>KHMT</td>\n",
       "      <td>Khoa hoc may tinh</td>\n",
       "    </tr>\n",
       "    <tr>\n",
       "      <th>2</th>\n",
       "      <td>SV03</td>\n",
       "      <td>Hai</td>\n",
       "      <td>KTS</td>\n",
       "      <td>Kinh te so</td>\n",
       "    </tr>\n",
       "    <tr>\n",
       "      <th>3</th>\n",
       "      <td>SV04</td>\n",
       "      <td>Hung</td>\n",
       "      <td>KTS</td>\n",
       "      <td>Kinh te so</td>\n",
       "    </tr>\n",
       "    <tr>\n",
       "      <th>4</th>\n",
       "      <td>SV05</td>\n",
       "      <td>Hoa</td>\n",
       "      <td>DTVT</td>\n",
       "      <td>Dien tu vien thong</td>\n",
       "    </tr>\n",
       "  </tbody>\n",
       "</table>\n",
       "</div>"
      ],
      "text/plain": [
       "   Masv TenSV MaKhoa             TenKhoa\n",
       "0  SV01   Nam   KHMT   Khoa hoc may tinh\n",
       "1  SV02  Tuan   KHMT   Khoa hoc may tinh\n",
       "2  SV03   Hai    KTS          Kinh te so\n",
       "3  SV04  Hung    KTS          Kinh te so\n",
       "4  SV05   Hoa   DTVT  Dien tu vien thong"
      ]
     },
     "execution_count": 6,
     "metadata": {},
     "output_type": "execute_result"
    }
   ],
   "source": [
    "df_mergepd = pd.merge(df_sv, df_khoa, on=\"MaKhoa\")\n",
    "df_mergepd"
   ]
  },
  {
   "cell_type": "code",
   "execution_count": null,
   "id": "9a0967f9",
   "metadata": {},
   "outputs": [],
   "source": []
  }
 ],
 "metadata": {
  "kernelspec": {
   "display_name": "Python 3 (ipykernel)",
   "language": "python",
   "name": "python3"
  },
  "language_info": {
   "codemirror_mode": {
    "name": "ipython",
    "version": 3
   },
   "file_extension": ".py",
   "mimetype": "text/x-python",
   "name": "python",
   "nbconvert_exporter": "python",
   "pygments_lexer": "ipython3",
   "version": "3.11.5"
  }
 },
 "nbformat": 4,
 "nbformat_minor": 5
}
